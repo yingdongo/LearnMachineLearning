{
 "cells": [
  {
   "cell_type": "markdown",
   "metadata": {},
   "source": [
    "### Building a simple sigmoid neural network model to recognize digit number.\n",
    "##### using batch gradient descent\n",
    "##### reference to Andrew Ng's Coursera Machine Learning Course"
   ]
  },
  {
   "cell_type": "code",
   "execution_count": 919,
   "metadata": {
    "collapsed": true
   },
   "outputs": [],
   "source": [
    "import pandas as pd\n",
    "import numpy as np\n",
    "import random\n",
    "\n",
    "import matplotlib\n",
    "import matplotlib.pyplot as plt\n",
    "import matplotlib.cm as cm\n",
    "\n",
    "from sklearn.metrics import accuracy_score\n",
    "\n",
    "% matplotlib inline "
   ]
  },
  {
   "cell_type": "markdown",
   "metadata": {},
   "source": [
    "sigmoid gradient\n",
    "$${g}'(z)=\\frac{d}{dz}g(z)=g(z)(1-g(z))$$\n",
    "where\n",
    "$$sigmoid(z)=g(z)=\\frac{1}{1+e^{-z}}$$"
   ]
  },
  {
   "cell_type": "markdown",
   "metadata": {},
   "source": [
    "### Cost Function with regularization\n",
    "$$J(\\theta )) = \\frac{1}{m} \\sum_{i=1}^{m}\\sum_{k=1}^{K}[-y_{k}^{(i)}log((h_\\theta(x^{(i)}))_{k}) - (1-y_{k}^{(i)})log(1-(h_{\\theta}(x^{(i)}))_{k})] + \\frac{\\lambda }{2m}\\sum_{l=1}^{L-1}\\sum_{i=1}^{s_{l}}\\sum_{j=1}^{s_{l+1}}(\\theta_{ji}^{(l)})^{2}$$\n",
    "\n",
    "- Training set is $${(x^{1}, y^{1}), (x^{2}, y^{2}), (x^{3}, y^{3}) ... (x^{m}, y^{m})}$$\n",
    "- L = number of layers in the network\n",
    "- S<sub>l</sub> = number of units (not counting bias unit) in layer l \n",
    "- K is number of units in output layer S<sub>L</sub> = K\n",
    "-  $\\theta^{l}_{ji}$ is the weight from the ith unit of layer l to jth unit of layer l+1"
   ]
  },
  {
   "cell_type": "markdown",
   "metadata": {
    "collapsed": true
   },
   "source": [
    "# TODO complement explanation of neural network"
   ]
  },
  {
   "cell_type": "code",
   "execution_count": 4,
   "metadata": {
    "collapsed": true
   },
   "outputs": [],
   "source": [
    "def sigmoid(z):\n",
    "    return 1/(1+np.exp(-z))"
   ]
  },
  {
   "cell_type": "code",
   "execution_count": 5,
   "metadata": {
    "collapsed": true
   },
   "outputs": [],
   "source": [
    "def sigmoidGradient(z):\n",
    "    return sigmoid(z)*(1 - sigmoid(z))"
   ]
  },
  {
   "cell_type": "code",
   "execution_count": 944,
   "metadata": {
    "collapsed": true
   },
   "outputs": [],
   "source": [
    "def initWeight(numUnits):\n",
    "    # input are #units of every layer\n",
    "    # randomly initialize theta\n",
    "    w = []\n",
    "    # let theta be small number\n",
    "    epsilon_init = 0.01\n",
    "    for i in range(len(numUnits)-1):\n",
    "        w.append(np.random.random((numUnits[i] + 1, numUnits[i+1]))*epsilon_init)\n",
    "    return w"
   ]
  },
  {
   "cell_type": "code",
   "execution_count": 504,
   "metadata": {
    "collapsed": false
   },
   "outputs": [],
   "source": [
    "def NNcost(y, y_pre, theta, lamb):\n",
    "    m = len(y)\n",
    "    L = len(theta)\n",
    "    regular = 0\n",
    "    # calculate regularization term\n",
    "    for i in range(L):\n",
    "        # bias weight not included\n",
    "        regular += np.sum(np.square(theta[i][:,1:])) \n",
    "    regular = regular * lamb / m\n",
    "    cost = np.sum(- y * np.log(y_pre) - (1 - y) * np.log(1 - y_pre))/m + regular\n",
    "    return cost"
   ]
  },
  {
   "cell_type": "markdown",
   "metadata": {},
   "source": [
    "### train"
   ]
  },
  {
   "cell_type": "code",
   "execution_count": 505,
   "metadata": {
    "collapsed": true
   },
   "outputs": [],
   "source": [
    "def gradient(x, y, theta, lamb):\n",
    "    # number of theta\n",
    "    L = len(theta)\n",
    "    # number of data sets\n",
    "    m = len(x)\n",
    "    # save every a and z for backpropagation\n",
    "    a = []\n",
    "    z = []\n",
    "    current_a = x\n",
    "    current_z = 0\n",
    "    for i in range(L):\n",
    "        # add bias to input\n",
    "        current_a = np.c_[np.ones(m),current_a]\n",
    "        a.append(current_a)\n",
    "        current_z = np.dot(current_a , theta[i])\n",
    "        z.append(current_z)\n",
    "        current_a = sigmoid(current_z)\n",
    "    \n",
    "    # value of cost function\n",
    "    cost = NNcost(y, current_a, theta, lamb)\n",
    "    \n",
    "    # calculate the gradient of theta for updating\n",
    "    gradient = []\n",
    "    error = []\n",
    "    l = L-1\n",
    "    current_error = current_a - y\n",
    "    error.append(current_error)\n",
    "    delta = []\n",
    "    while l > 0:\n",
    "        current_error = np.dot(current_error,np.transpose(theta[l])) * sigmoidGradient(np.c_[np.ones(len(z[l-1])),z[l-1]])\n",
    "        current_error = current_error[:,1:]\n",
    "        error.append(current_error)\n",
    "        l -= 1\n",
    "        \n",
    "    for j in range(L):\n",
    "        delta.append(np.dot(np.transpose(a[j]),error[L-1-j]))\n",
    "    \n",
    "    theta_temp = [np.c_[np.zeros(len(t)),t[:,1:]] for t in theta]\n",
    "    theta_grad = []\n",
    "    \n",
    "    for i in range(L):\n",
    "        theta_grad.append(delta[i]/m + lamb/m * theta_temp[i])\n",
    "    \n",
    "    return (cost, theta_grad)"
   ]
  },
  {
   "cell_type": "code",
   "execution_count": 874,
   "metadata": {
    "collapsed": true
   },
   "outputs": [],
   "source": [
    "def updateTheta(alpha, theta, theta_grad):\n",
    "    # batch gradient descent\n",
    "    for i in range(len(theta)):\n",
    "        theta[i] = theta[i] - alpha*theta_grad[i]\n",
    "    return theta"
   ]
  },
  {
   "cell_type": "code",
   "execution_count": 878,
   "metadata": {
    "collapsed": false,
    "scrolled": true
   },
   "outputs": [],
   "source": [
    "def train(x, y, theta, alpha, lamb, max_cost, max_iter):\n",
    "    cost = 1\n",
    "    k = 0\n",
    "    while cost > max_cost and k < max_iter:\n",
    "        cost,theta_grad = gradient(x,y,theta,lamb)\n",
    "        theta = updateTheta(alpha, theta, theta_grad)\n",
    "        k = k + 1\n",
    "    return theta, cost"
   ]
  },
  {
   "cell_type": "code",
   "execution_count": 848,
   "metadata": {
    "collapsed": true
   },
   "outputs": [],
   "source": [
    "def predict(x, theta):\n",
    "    # number of layers\n",
    "    L = len(theta)\n",
    "    # number of data sets\n",
    "    m = len(x)\n",
    "    a = x\n",
    "    for i in range(L):\n",
    "        # add bias to input\n",
    "        a = np.c_[np.ones(m),a]\n",
    "        z = np.dot(a , theta[i])\n",
    "        a = sigmoid(z)\n",
    "    return a"
   ]
  },
  {
   "cell_type": "code",
   "execution_count": 721,
   "metadata": {
    "collapsed": true
   },
   "outputs": [],
   "source": [
    "def oneHot(m):\n",
    "    n = len(np.unique(m))\n",
    "    r = np.zeros((len(m), n))\n",
    "    for i in range(len(m)):\n",
    "        r[i,m[i]] = 1\n",
    "    return r"
   ]
  },
  {
   "cell_type": "code",
   "execution_count": 886,
   "metadata": {
    "collapsed": false
   },
   "outputs": [],
   "source": [
    "# data from https://www.kaggle.com/c/digit-recognizer\n",
    "df_train=pd.read_csv('data/train.csv')"
   ]
  },
  {
   "cell_type": "code",
   "execution_count": 924,
   "metadata": {
    "collapsed": false
   },
   "outputs": [],
   "source": [
    "X = df_train.drop(\"label\", axis=1)"
   ]
  },
  {
   "cell_type": "code",
   "execution_count": 969,
   "metadata": {
    "collapsed": true
   },
   "outputs": [],
   "source": [
    "def showNum(arr):\n",
    "    arr = np.array(arr,dtype=np.uint8)\n",
    "    arr.resize((28, 28))\n",
    "    plt.imshow(arr,cmap=cm.binary)"
   ]
  },
  {
   "cell_type": "code",
   "execution_count": 970,
   "metadata": {
    "collapsed": false
   },
   "outputs": [
    {
     "data": {
      "image/png": "[encoded data removed]",
      "text/plain": [
       "<matplotlib.figure.Figure at 0x12308a9d0>"
      ]
     },
     "metadata": {},
     "output_type": "display_data"
    }
   ],
   "source": [
    "showNum(X.ix[2])"
   ]
  },
  {
   "cell_type": "code",
   "execution_count": 887,
   "metadata": {
    "collapsed": true
   },
   "outputs": [],
   "source": [
    "label = df_train[\"label\"]"
   ]
  },
  {
   "cell_type": "code",
   "execution_count": 935,
   "metadata": {
    "collapsed": false
   },
   "outputs": [],
   "source": [
    "X_train = X[:10000]\n",
    "X_test = X[10000:12000]\n",
    "\n",
    "# normalization\n",
    "X_train = np.array(X_train) / 256.0\n",
    "y_train = oneHot(label[:10000].values)\n",
    "X_test = np.array(X_test) / 256.0\n",
    "y_test = oneHot(label[10000:12000].values)"
   ]
  },
  {
   "cell_type": "code",
   "execution_count": 1044,
   "metadata": {
    "collapsed": true
   },
   "outputs": [],
   "source": [
    "# initialize theta\n",
    "theta = initWeight([784, 40, 10])\n",
    "# learning rate\n",
    "alpha = 0.3\n",
    "# lambda for regularization\n",
    "lamb = 1\n",
    "max_cost = 0.01\n",
    "max_iter = 500"
   ]
  },
  {
   "cell_type": "code",
   "execution_count": 1045,
   "metadata": {
    "collapsed": false,
    "scrolled": true
   },
   "outputs": [],
   "source": [
    "# train the model\n",
    "theta, cost = train(X_train, y_train, theta, alpha, lamb, max_cost, max_iter)"
   ]
  },
  {
   "cell_type": "code",
   "execution_count": 1046,
   "metadata": {
    "collapsed": false,
    "scrolled": true
   },
   "outputs": [],
   "source": [
    "# predict the result of test set\n",
    "y_pre = predict(X_test, theta)"
   ]
  },
  {
   "cell_type": "code",
   "execution_count": 1047,
   "metadata": {
    "collapsed": false,
    "scrolled": false
   },
   "outputs": [
    {
     "data": {
      "text/plain": [
       "0.72199999999999998"
      ]
     },
     "execution_count": 1047,
     "metadata": {},
     "output_type": "execute_result"
    }
   ],
   "source": [
    "accuracy_score(np.round(y_pre), y_test)"
   ]
  },
  {
   "cell_type": "code",
   "execution_count": 1003,
   "metadata": {
    "collapsed": false
   },
   "outputs": [
    {
     "data": {
      "text/plain": [
       "array([  1.88323005e-03,   1.31306552e-05,   7.09939388e-02,\n",
       "         2.20332811e-03,   4.29729705e-03,   2.51698676e-04,\n",
       "         1.18142758e-02,   3.65739354e-05,   5.46591100e-04,\n",
       "         2.53982526e-04])"
      ]
     },
     "execution_count": 1003,
     "metadata": {},
     "output_type": "execute_result"
    }
   ],
   "source": [
    "y_pre[0]"
   ]
  },
  {
   "cell_type": "code",
   "execution_count": 1004,
   "metadata": {
    "collapsed": false
   },
   "outputs": [
    {
     "data": {
      "text/plain": [
       "array([ 0.,  0.,  1.,  0.,  0.,  0.,  0.,  0.,  0.,  0.])"
      ]
     },
     "execution_count": 1004,
     "metadata": {},
     "output_type": "execute_result"
    }
   ],
   "source": [
    "y_test[0]"
   ]
  },
  {
   "cell_type": "code",
   "execution_count": 1002,
   "metadata": {
    "collapsed": false
   },
   "outputs": [
    {
     "data": {
      "image/png": "[encoded data removed]",
      "text/plain": [
       "<matplotlib.figure.Figure at 0x123529390>"
      ]
     },
     "metadata": {},
     "output_type": "display_data"
    }
   ],
   "source": [
    "showNum(X.ix[10001])"
   ]
  },
  {
   "cell_type": "code",
   "execution_count": 995,
   "metadata": {
    "collapsed": false
   },
   "outputs": [
    {
     "data": {
      "text/plain": [
       "5"
      ]
     },
     "execution_count": 995,
     "metadata": {},
     "output_type": "execute_result"
    }
   ],
   "source": [
    "label[10001]"
   ]
  },
  {
   "cell_type": "code",
   "execution_count": 1049,
   "metadata": {
    "collapsed": false
   },
   "outputs": [],
   "source": [
    "theta = initWeight([784, 40, 10])\n",
    "params = {\"alpha\": [0.03, 0.1, 0.3, 1],\n",
    "          \"lamb\": [0.1, 1, 10],\n",
    "          \"max_cost\": [0.01],\n",
    "          \"max_iter\": [500, 1000, 5000, 10000]}"
   ]
  },
  {
   "cell_type": "code",
   "execution_count": 1050,
   "metadata": {
    "collapsed": false
   },
   "outputs": [],
   "source": [
    "def gridSearch(params):\n",
    "    for alpha in params[\"alpha\"]:\n",
    "        for lamb in params[\"lamb\"]:\n",
    "            for max_cost in params[\"max_cost\"]:\n",
    "                for max_iter in params[\"max_iter\"]:\n",
    "                    new_theta, cost = train(X_train, y_train, theta, alpha=alpha, lamb=lamb, max_cost=max_cost, max_iter=max_iter)\n",
    "                    y_pre = predict(X_test, new_theta)\n",
    "                    print \"alpha=%s, \" % alpha, \"lamb=%s, \" % lamb,\n",
    "                    print \"max_cost=%s, \" % max_cost,\"max_iter=%s, \" % max_iter, \n",
    "                    print \"accuracy = %s\" % accuracy_score(np.round(y_pre), y_test)"
   ]
  },
  {
   "cell_type": "code",
   "execution_count": null,
   "metadata": {
    "collapsed": false,
    "scrolled": true
   },
   "outputs": [],
   "source": [
    "gridSearch(params)"
   ]
  },
  {
   "cell_type": "code",
   "execution_count": null,
   "metadata": {
    "collapsed": true
   },
   "outputs": [],
   "source": []
  }
 ],
 "metadata": {
  "kernelspec": {
   "display_name": "Python 2",
   "language": "python",
   "name": "python2"
  },
  "language_info": {
   "codemirror_mode": {
    "name": "ipython",
    "version": 2
   },
   "file_extension": ".py",
   "mimetype": "text/x-python",
   "name": "python",
   "nbconvert_exporter": "python",
   "pygments_lexer": "ipython2",
   "version": "2.7.11"
  }
 },
 "nbformat": 4,
 "nbformat_minor": 0
}
